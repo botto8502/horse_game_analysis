{
 "cells": [
  {
   "cell_type": "markdown",
   "id": "1983167e",
   "metadata": {},
   "source": [
    "# Analysis of Horse Race Probability Game\n",
    "\n",
    "### Game Explaination\n",
    "This game consists of 11 columns, representing numbers [2, 12], each with a specific number of pegging holes. The game is played by rolling a pair of dice and moving the corresponding horse one peg forward. The winner is the horse which crosses the finish line first. The number of holes in each column are (column, holes) [(2, 3), (3, 6), (4, 8), (5, 11), (6, 14), (7, 17), (8, 14), (9, 11), (10, 8), (11, 6), (12, 3)]\n",
    "\n",
    "### Variation\n",
    "These is a variant of the game where before the game begins, n (0, 11] numbers are rolled, and those numbers are eliminated from contention."
   ]
  },
  {
   "cell_type": "code",
   "execution_count": 1,
   "id": "b7b84d6b",
   "metadata": {},
   "outputs": [],
   "source": [
    "import numpy as np\n",
    "import random\n",
    "import seaborn as sn\n",
    "import pandas as pd"
   ]
  },
  {
   "cell_type": "code",
   "execution_count": 2,
   "id": "0f4d9cba",
   "metadata": {},
   "outputs": [],
   "source": [
    "COLUMN_HOLES = [3, 6, 8, 11, 14, 17, 14, 11, 8, 6, 3]\n",
    "NUM_ELIM = 0"
   ]
  },
  {
   "cell_type": "code",
   "execution_count": null,
   "id": "d4a01833",
   "metadata": {},
   "outputs": [],
   "source": [
    "def game(board, n):\n",
    "    # Defines game play for horse game\n",
    "    # Returns winner, dictionary of roll counts, and eliminated numbers\n",
    "    # PARAMS:\n",
    "    #   board: number of pegging holes for each column\n",
    "    #   n: number of columns to be eliminated before rolling begins\n",
    "    def check_winner(rolls, board, elim):\n",
    "        for num, count in rolls:\n",
    "            if (count >= board[num-2] and num not in elim):\n",
    "                return num\n",
    "        return 0\n",
    "    \n",
    "    elim = set() #initialize with false value to avoid empty set\n",
    "    while len(elim) < n + 1:\n",
    "        temp = random.randint(1, 6) + random.randint(1, 6)\n",
    "        if temp not in elim:\n",
    "            elim.add(temp)\n",
    "\n",
    "    rolls = {}\n",
    "    winner = 0\n",
    "    while (winner == 0):\n",
    "        roll = random.randint(1, 6) + random.randint(1, 6)\n",
    "        if (roll not in rolls):\n",
    "            rolls[roll] = 0\n",
    "        rolls[roll] += 1\n",
    "        winner = check_winner(rolls, board, elim)\n",
    "    \n",
    "    return winner, rolls, elim"
   ]
  },
  {
   "cell_type": "code",
   "execution_count": 11,
   "id": "d5c2f954",
   "metadata": {},
   "outputs": [
    {
     "ename": "TypeError",
     "evalue": "cannot unpack non-iterable int object",
     "output_type": "error",
     "traceback": [
      "\u001b[31m---------------------------------------------------------------------------\u001b[39m",
      "\u001b[31mTypeError\u001b[39m                                 Traceback (most recent call last)",
      "\u001b[36mCell\u001b[39m\u001b[36m \u001b[39m\u001b[32mIn[11]\u001b[39m\u001b[32m, line 1\u001b[39m\n\u001b[32m----> \u001b[39m\u001b[32m1\u001b[39m \u001b[43mgame\u001b[49m\u001b[43m(\u001b[49m\u001b[43mCOLUMN_HOLES\u001b[49m\u001b[43m,\u001b[49m\u001b[43m \u001b[49m\u001b[32;43m0\u001b[39;49m\u001b[43m)\u001b[49m\n",
      "\u001b[36mCell\u001b[39m\u001b[36m \u001b[39m\u001b[32mIn[10]\u001b[39m\u001b[32m, line 26\u001b[39m, in \u001b[36mgame\u001b[39m\u001b[34m(board, n)\u001b[39m\n\u001b[32m     24\u001b[39m         rolls[roll] = \u001b[32m0\u001b[39m\n\u001b[32m     25\u001b[39m     rolls[roll] += \u001b[32m1\u001b[39m\n\u001b[32m---> \u001b[39m\u001b[32m26\u001b[39m     winner = \u001b[43mcheck_winner\u001b[49m\u001b[43m(\u001b[49m\u001b[43mrolls\u001b[49m\u001b[43m,\u001b[49m\u001b[43m \u001b[49m\u001b[43mboard\u001b[49m\u001b[43m,\u001b[49m\u001b[43m \u001b[49m\u001b[43melim\u001b[49m\u001b[43m)\u001b[49m\n\u001b[32m     28\u001b[39m \u001b[38;5;28;01mreturn\u001b[39;00m winner, rolls, elim\n",
      "\u001b[36mCell\u001b[39m\u001b[36m \u001b[39m\u001b[32mIn[10]\u001b[39m\u001b[32m, line 8\u001b[39m, in \u001b[36mgame.<locals>.check_winner\u001b[39m\u001b[34m(rolls, board, elim)\u001b[39m\n\u001b[32m      7\u001b[39m \u001b[38;5;28;01mdef\u001b[39;00m\u001b[38;5;250m \u001b[39m\u001b[34mcheck_winner\u001b[39m(rolls, board, elim):\n\u001b[32m----> \u001b[39m\u001b[32m8\u001b[39m     \u001b[38;5;28;01mfor\u001b[39;00m num, count \u001b[38;5;129;01min\u001b[39;00m rolls:\n\u001b[32m      9\u001b[39m         \u001b[38;5;28;01mif\u001b[39;00m (count >= board[num-\u001b[32m2\u001b[39m] \u001b[38;5;129;01mand\u001b[39;00m num \u001b[38;5;129;01mnot\u001b[39;00m \u001b[38;5;129;01min\u001b[39;00m elim):\n\u001b[32m     10\u001b[39m             \u001b[38;5;28;01mreturn\u001b[39;00m num\n",
      "\u001b[31mTypeError\u001b[39m: cannot unpack non-iterable int object"
     ]
    }
   ],
   "source": [
    "game(COLUMN_HOLES, 0)"
   ]
  }
 ],
 "metadata": {
  "kernelspec": {
   "display_name": "Python 3",
   "language": "python",
   "name": "python3"
  },
  "language_info": {
   "codemirror_mode": {
    "name": "ipython",
    "version": 3
   },
   "file_extension": ".py",
   "mimetype": "text/x-python",
   "name": "python",
   "nbconvert_exporter": "python",
   "pygments_lexer": "ipython3",
   "version": "3.13.3"
  }
 },
 "nbformat": 4,
 "nbformat_minor": 5
}
